{
 "cells": [
  {
   "cell_type": "markdown",
   "id": "68ae440a",
   "metadata": {},
   "source": [
    "# Test Plugin Integration\n",
    "\n",
    "> Test the Whisper plugin with the transcription plugin system"
   ]
  },
  {
   "cell_type": "code",
   "execution_count": 1,
   "id": "b8cdb840",
   "metadata": {},
   "outputs": [],
   "source": [
    "import logging\n",
    "import json\n",
    "import numpy as np\n",
    "from pathlib import Path\n",
    "\n",
    "# Import PluginManager from the generic plugin system\n",
    "from cjm_plugin_system.core.manager import PluginManager\n",
    "from cjm_transcription_plugin_system.plugin_interface import TranscriptionPlugin\n",
    "from cjm_transcription_plugin_system.core import AudioData\n",
    "from cjm_transcription_plugin_whisper.plugin import WhisperLocalPlugin"
   ]
  },
  {
   "cell_type": "markdown",
   "id": "451d23db",
   "metadata": {},
   "source": [
    "## Test Direct Plugin Usage"
   ]
  },
  {
   "cell_type": "code",
   "execution_count": 2,
   "id": "d91eb82b",
   "metadata": {},
   "outputs": [
    {
     "name": "stdout",
     "output_type": "stream",
     "text": [
      "Plugin: whisper_local v1.0.0\n",
      "Available: True\n",
      "Supported formats: wav, mp3, flac, m4a, ogg, webm, mp4, avi, mov\n"
     ]
    }
   ],
   "source": [
    "# Create plugin directly\n",
    "plugin = WhisperLocalPlugin()\n",
    "\n",
    "# Check basic properties\n",
    "print(f\"Plugin: {plugin.name} v{plugin.version}\")\n",
    "print(f\"Available: {plugin.is_available()}\")\n",
    "print(f\"Supported formats: {', '.join(plugin.supported_formats)}\")"
   ]
  },
  {
   "cell_type": "code",
   "execution_count": 3,
   "id": "ca3006f7",
   "metadata": {},
   "outputs": [
    {
     "name": "stdout",
     "output_type": "stream",
     "text": [
      "Configuration options:\n",
      "- Required: ['model']\n",
      "- Total properties: 23\n",
      "\n",
      "Available models:\n",
      "  - tiny\n",
      "  - tiny.en\n",
      "  - base\n",
      "  - base.en\n",
      "  - small\n",
      "  - small.en\n",
      "  - medium\n",
      "  - medium.en\n",
      "  - large\n",
      "  - large-v1\n",
      "  - large-v2\n",
      "  - large-v3\n"
     ]
    }
   ],
   "source": [
    "# Get configuration schema\n",
    "schema = plugin.get_config_schema()\n",
    "print(\"Configuration options:\")\n",
    "print(f\"- Required: {schema.get('required', [])}\")\n",
    "print(f\"- Total properties: {len(schema['properties'])}\")\n",
    "print(\"\\nAvailable models:\")\n",
    "for model in schema['properties']['model']['enum']:\n",
    "    print(f\"  - {model}\")"
   ]
  },
  {
   "cell_type": "markdown",
   "id": "a9f970eb",
   "metadata": {},
   "source": [
    "## Test with Plugin Manager"
   ]
  },
  {
   "cell_type": "code",
   "execution_count": 4,
   "id": "c2ad342a",
   "metadata": {},
   "outputs": [],
   "source": [
    "# Setup logging\n",
    "logging.basicConfig(level=logging.INFO, format='%(name)s - %(levelname)s - %(message)s')\n",
    "\n",
    "# Create plugin manager\n",
    "manager = PluginManager(plugin_interface=TranscriptionPlugin)"
   ]
  },
  {
   "cell_type": "code",
   "execution_count": 5,
   "id": "83b65521",
   "metadata": {},
   "outputs": [
    {
     "name": "stderr",
     "output_type": "stream",
     "text": [
      "cjm_transcription_plugin_whisper.plugin.WhisperLocalPlugin - INFO - Initialized Whisper plugin with model 'tiny' on device 'cpu'\n",
      "cjm_plugin_system.core.manager.PluginManager - INFO - Loaded plugin from module: whisper_local\n"
     ]
    },
    {
     "name": "stdout",
     "output_type": "stream",
     "text": [
      "Plugin loaded: True\n"
     ]
    }
   ],
   "source": [
    "# Option 1: Load plugin from module directly (for development)\n",
    "# This works even without the package being installed\n",
    "import sys\n",
    "import os\n",
    "\n",
    "# Add parent directory to path to import the plugin module\n",
    "parent_dir = Path.cwd().parent\n",
    "if str(parent_dir) not in sys.path:\n",
    "    sys.path.insert(0, str(parent_dir))\n",
    "\n",
    "# Import and register the plugin\n",
    "from cjm_transcription_plugin_whisper.plugin import WhisperLocalPlugin\n",
    "\n",
    "# Create a temporary module file for the plugin manager to load\n",
    "temp_plugin_file = Path(\"temp_whisper_plugin.py\")\n",
    "with open(temp_plugin_file, \"w\") as f:\n",
    "    f.write(\"from cjm_transcription_plugin_whisper.plugin import WhisperLocalPlugin\\n\")\n",
    "\n",
    "# Load the plugin\n",
    "success = manager.load_plugin_from_module(\n",
    "    str(temp_plugin_file),\n",
    "    config={\"model\": \"tiny\", \"device\": \"cpu\"}  # Use tiny model for testing\n",
    ")\n",
    "\n",
    "print(f\"Plugin loaded: {success}\")\n",
    "\n",
    "# Clean up temp file\n",
    "temp_plugin_file.unlink()"
   ]
  },
  {
   "cell_type": "code",
   "execution_count": 6,
   "id": "7c80eb3d",
   "metadata": {},
   "outputs": [
    {
     "name": "stdout",
     "output_type": "stream",
     "text": [
      "Loaded plugins:\n",
      "  - whisper_local v1.0.0 (enabled: True)\n"
     ]
    }
   ],
   "source": [
    "# List loaded plugins\n",
    "print(\"Loaded plugins:\")\n",
    "for meta in manager.list_plugins():\n",
    "    print(f\"  - {meta.name} v{meta.version} (enabled: {meta.enabled})\")"
   ]
  },
  {
   "cell_type": "code",
   "execution_count": 7,
   "id": "c9616d5d",
   "metadata": {},
   "outputs": [
    {
     "name": "stdout",
     "output_type": "stream",
     "text": [
      "Current Whisper configuration:\n",
      "{\n",
      "  \"model\": \"tiny\",\n",
      "  \"device\": \"cpu\",\n",
      "  \"language\": null,\n",
      "  \"task\": \"transcribe\"\n",
      "}\n"
     ]
    }
   ],
   "source": [
    "# Get plugin configuration\n",
    "current_config = manager.get_plugin_config(\"whisper_local\")\n",
    "print(\"Current Whisper configuration:\")\n",
    "config_subset = {k: current_config[k] for k in [\"model\", \"device\", \"language\", \"task\"] if k in current_config}\n",
    "print(json.dumps(config_subset, indent=2))"
   ]
  },
  {
   "cell_type": "markdown",
   "id": "5fc95968",
   "metadata": {},
   "source": [
    "## Test Configuration Management"
   ]
  },
  {
   "cell_type": "code",
   "execution_count": 8,
   "id": "2f029444",
   "metadata": {},
   "outputs": [
    {
     "name": "stdout",
     "output_type": "stream",
     "text": [
      "Valid: switching to base model\n",
      "  Config: {'model': 'base'}\n",
      "  Valid: True\n",
      "\n",
      "Invalid: bad model name\n",
      "  Config: {'model': 'invalid_model'}\n",
      "  Valid: False\n",
      "  Error: 'invalid_model' is not one of ['tiny', 'tiny.en', 'base', 'base.en', 'small', 'small.en', 'medium', ...\n",
      "\n",
      "Valid: adjusting temperature\n",
      "  Config: {'temperature': 0.5}\n",
      "  Valid: False\n",
      "  Error: 'model' is a required property\n",
      "\n",
      "Failed validating 'required' in schema:\n",
      "    {'$schema': 'http://json...\n",
      "\n",
      "Invalid: temperature out of range\n",
      "  Config: {'temperature': 2.0}\n",
      "  Valid: False\n",
      "  Error: 'model' is a required property\n",
      "\n",
      "Failed validating 'required' in schema:\n",
      "    {'$schema': 'http://json...\n",
      "\n"
     ]
    }
   ],
   "source": [
    "# Validate different configurations\n",
    "test_configs = [\n",
    "    ({\"model\": \"base\"}, \"Valid: switching to base model\"),\n",
    "    ({\"model\": \"invalid_model\"}, \"Invalid: bad model name\"),\n",
    "    ({\"temperature\": 0.5}, \"Valid: adjusting temperature\"),\n",
    "    ({\"temperature\": 2.0}, \"Invalid: temperature out of range\"),\n",
    "]\n",
    "\n",
    "for config, description in test_configs:\n",
    "    is_valid, error = manager.validate_plugin_config(\"whisper_local\", config)\n",
    "    print(f\"{description}\")\n",
    "    print(f\"  Config: {config}\")\n",
    "    print(f\"  Valid: {is_valid}\")\n",
    "    if error:\n",
    "        print(f\"  Error: {error[:100]}...\")\n",
    "    print()"
   ]
  },
  {
   "cell_type": "code",
   "execution_count": 9,
   "id": "cf99b08a",
   "metadata": {},
   "outputs": [
    {
     "name": "stderr",
     "output_type": "stream",
     "text": [
      "cjm_transcription_plugin_whisper.plugin.WhisperLocalPlugin - INFO - Initialized Whisper plugin with model 'tiny' on device 'cpu'\n",
      "cjm_plugin_system.core.manager.PluginManager - INFO - Updated configuration for plugin: whisper_local\n"
     ]
    },
    {
     "name": "stdout",
     "output_type": "stream",
     "text": [
      "Configuration updated: True\n",
      "\n",
      "Updated configuration:\n",
      "  temperature: 0.2\n",
      "  language: en\n",
      "  word_timestamps: True\n"
     ]
    }
   ],
   "source": [
    "# Update configuration\n",
    "new_config = {\n",
    "    \"temperature\": 0.2,\n",
    "    \"language\": \"en\",\n",
    "    \"word_timestamps\": True\n",
    "}\n",
    "\n",
    "success = manager.update_plugin_config(\"whisper_local\", new_config, merge=True)\n",
    "print(f\"Configuration updated: {success}\")\n",
    "\n",
    "if success:\n",
    "    updated_config = manager.get_plugin_config(\"whisper_local\")\n",
    "    print(\"\\nUpdated configuration:\")\n",
    "    for key in new_config:\n",
    "        print(f\"  {key}: {updated_config[key]}\")"
   ]
  },
  {
   "cell_type": "markdown",
   "id": "6db688d6",
   "metadata": {},
   "source": [
    "## Test Transcription"
   ]
  },
  {
   "cell_type": "code",
   "execution_count": 10,
   "id": "36400e34-7aea-48a4-b87f-1590cf0460cc",
   "metadata": {},
   "outputs": [],
   "source": [
    "from nbdev.config import get_config\n",
    "from pathlib import Path\n",
    "\n",
    "config = get_config()\n",
    "project_dir = config.config_path\n",
    "test_dir = project_dir/\"./test_files/\"\n",
    "audio_path = test_dir/\"short_test_audio.mp3\"\n",
    "# audio_path = test_dir/\"constitution_01_unitedstates_128kb.mp3\"\n",
    "assert audio_path.exists()"
   ]
  },
  {
   "cell_type": "code",
   "execution_count": 11,
   "id": "e727dcec-913e-4833-b450-709d2af77228",
   "metadata": {},
   "outputs": [
    {
     "name": "stderr",
     "output_type": "stream",
     "text": [
      "cjm_transcription_plugin_whisper.plugin.WhisperLocalPlugin - INFO - Loading Whisper model: tiny\n"
     ]
    },
    {
     "name": "stdout",
     "output_type": "stream",
     "text": [
      "Transcribing: /mnt/SN850X_8TB_EXT4/Projects/GitHub/cj-mills/cjm-transcription-plugin-whisper/test_files/short_test_audio.mp3\n"
     ]
    },
    {
     "name": "stderr",
     "output_type": "stream",
     "text": [
      "cjm_transcription_plugin_whisper.plugin.WhisperLocalPlugin - INFO - Local Whisper model loaded successfully\n",
      "cjm_transcription_plugin_whisper.plugin.WhisperLocalPlugin - INFO - Transcribing audio with Whisper tiny\n",
      "100%|███████████████████████████████████████████████████████████| 2799/2799 [00:01<00:00, 1580.75frames/s]\n",
      "cjm_transcription_plugin_whisper.plugin.WhisperLocalPlugin - INFO - Transcription completed: 42 words\n"
     ]
    },
    {
     "name": "stdout",
     "output_type": "stream",
     "text": [
      "Transcription result:\n",
      "  Text:\n",
      "    November the 10th Wednesday, 9pm. I'm standing in a dark alley. After waiting several hours,\n",
      "    the time has come. A woman with long dark hair approaches, I have to act and fast,\n",
      "    Before she realizes what has happened, I must find out.\n",
      "  Segments: 3\n",
      "  Metadata: {'model': 'tiny', 'language': 'en', 'task': 'transcribe', 'device': 'cpu', 'duration': None}\n"
     ]
    }
   ],
   "source": [
    "print(f\"Transcribing: {audio_path}\")\n",
    "result = manager.execute_plugin(\"whisper_local\", audio_path)\n",
    "print(\"Transcription result:\")\n",
    "text = '\\n    '.join([seg['text'] for seg in result.segments[:5]])\n",
    "print(f\"  Text:\\n    {text}\")\n",
    "print(f\"  Segments: {len(result.segments) if result.segments else 0}\")\n",
    "print(f\"  Metadata: {result.metadata}\")"
   ]
  },
  {
   "cell_type": "markdown",
   "id": "09fddad1",
   "metadata": {},
   "source": [
    "## Test Plugin Lifecycle"
   ]
  },
  {
   "cell_type": "code",
   "execution_count": 12,
   "id": "e3e692a6",
   "metadata": {},
   "outputs": [
    {
     "name": "stdout",
     "output_type": "stream",
     "text": [
      "Testing plugin lifecycle:\n",
      "Plugin disabled: True\n",
      "Expected error: Plugin whisper_local is disabled\n",
      "Plugin re-enabled: True\n"
     ]
    }
   ],
   "source": [
    "# Test disabling and enabling\n",
    "print(\"Testing plugin lifecycle:\")\n",
    "\n",
    "# Disable plugin\n",
    "manager.disable_plugin(\"whisper_local\")\n",
    "print(f\"Plugin disabled: {not manager.plugins['whisper_local'].enabled}\")\n",
    "\n",
    "# Try to execute while disabled (should fail)\n",
    "try:\n",
    "    manager.execute_plugin(\"whisper_local\", audio_path)\n",
    "except ValueError as e:\n",
    "    print(f\"Expected error: {e}\")\n",
    "\n",
    "# Re-enable plugin\n",
    "manager.enable_plugin(\"whisper_local\")\n",
    "print(f\"Plugin re-enabled: {manager.plugins['whisper_local'].enabled}\")"
   ]
  },
  {
   "cell_type": "code",
   "execution_count": 13,
   "id": "364ebb5e",
   "metadata": {},
   "outputs": [
    {
     "name": "stderr",
     "output_type": "stream",
     "text": [
      "cjm_transcription_plugin_whisper.plugin.WhisperLocalPlugin - INFO - Unloading Whisper model\n",
      "cjm_transcription_plugin_whisper.plugin.WhisperLocalPlugin - INFO - Cleanup completed\n",
      "cjm_plugin_system.core.manager.PluginManager - INFO - Unloaded plugin: whisper_local\n"
     ]
    },
    {
     "name": "stdout",
     "output_type": "stream",
     "text": [
      "\n",
      "Cleaning up...\n",
      "Plugins loaded: 0\n"
     ]
    }
   ],
   "source": [
    "# Clean up\n",
    "print(\"\\nCleaning up...\")\n",
    "manager.unload_plugin(\"whisper_local\")\n",
    "print(f\"Plugins loaded: {len(manager.list_plugins())}\")"
   ]
  },
  {
   "cell_type": "markdown",
   "id": "27ffe50d",
   "metadata": {},
   "source": [
    "## Test Entry Point Discovery (After Installation)"
   ]
  },
  {
   "cell_type": "code",
   "execution_count": 14,
   "id": "094b1ef8",
   "metadata": {},
   "outputs": [
    {
     "name": "stderr",
     "output_type": "stream",
     "text": [
      "cjm_plugin_system.core.manager.PluginManager - INFO - Discovered plugin: whisper_local v0.0.3 from package cjm-transcription-plugin-whisper\n",
      "cjm_transcription_plugin_whisper.plugin.WhisperLocalPlugin - INFO - Initialized Whisper plugin with model 'tiny' on device 'cuda'\n",
      "cjm_plugin_system.core.manager.PluginManager - INFO - Loaded plugin: whisper_local\n"
     ]
    },
    {
     "name": "stdout",
     "output_type": "stream",
     "text": [
      "Testing entry point discovery:\n",
      "\n",
      "Discovered 1 plugin(s) via entry points:\n",
      "  - whisper_local v0.0.3 from cjm-transcription-plugin-whisper\n",
      "\n",
      "Loaded whisper_local: True\n"
     ]
    }
   ],
   "source": [
    "# This will only work after the package is installed with pip install -e .\n",
    "# or pip install cjm-transcription-plugin-whisper\n",
    "\n",
    "print(\"Testing entry point discovery:\")\n",
    "manager2 = PluginManager(plugin_interface=TranscriptionPlugin)\n",
    "\n",
    "# Discover plugins via entry points\n",
    "discovered = manager2.discover_plugins()\n",
    "print(f\"\\nDiscovered {len(discovered)} plugin(s) via entry points:\")\n",
    "for plugin_meta in discovered:\n",
    "    print(f\"  - {plugin_meta.name} v{plugin_meta.version} from {plugin_meta.package_name}\")\n",
    "\n",
    "# Load discovered plugins\n",
    "for plugin_meta in discovered:\n",
    "    if plugin_meta.name == \"whisper_local\":\n",
    "        success = manager2.load_plugin(plugin_meta, config={\"model\": \"tiny\"})\n",
    "        print(f\"\\nLoaded {plugin_meta.name}: {success}\")"
   ]
  },
  {
   "cell_type": "code",
   "execution_count": 15,
   "id": "359fb75e-2325-4446-827a-a5032fa3e9f0",
   "metadata": {},
   "outputs": [
    {
     "name": "stderr",
     "output_type": "stream",
     "text": [
      "cjm_transcription_plugin_whisper.plugin.WhisperLocalPlugin - INFO - Initialized Whisper plugin with model 'large-v3' on device 'cuda'\n",
      "cjm_plugin_system.core.manager.PluginManager - INFO - Updated configuration for plugin: whisper_local\n"
     ]
    },
    {
     "data": {
      "text/plain": [
       "{'model': 'large-v3',\n",
       " 'device': 'cuda',\n",
       " 'language': None,\n",
       " 'task': 'transcribe',\n",
       " 'temperature': 0.0,\n",
       " 'temperature_increment_on_fallback': 0.2,\n",
       " 'beam_size': 5,\n",
       " 'best_of': 5,\n",
       " 'patience': 1.0,\n",
       " 'length_penalty': None,\n",
       " 'suppress_tokens': '-1',\n",
       " 'initial_prompt': None,\n",
       " 'condition_on_previous_text': False,\n",
       " 'fp16': True,\n",
       " 'compression_ratio_threshold': 2.4,\n",
       " 'logprob_threshold': -1.0,\n",
       " 'no_speech_threshold': 0.6,\n",
       " 'word_timestamps': False,\n",
       " 'prepend_punctuations': '\"\\'“¿([{-',\n",
       " 'append_punctuations': '\"\\'.。,，!！?？:：”)]}、',\n",
       " 'threads': 0,\n",
       " 'model_dir': None,\n",
       " 'compile_model': False}"
      ]
     },
     "execution_count": 15,
     "metadata": {},
     "output_type": "execute_result"
    }
   ],
   "source": [
    "manager2.update_plugin_config('whisper_local', config={\"model\": \"large-v3\", \"device\": \"cuda\"})\n",
    "manager2.get_plugin_config('whisper_local')"
   ]
  },
  {
   "cell_type": "code",
   "execution_count": 16,
   "id": "3ef33ebd-bc24-4aff-abdd-3195ee3adb80",
   "metadata": {},
   "outputs": [],
   "source": [
    "audio_path = test_dir/\"short_test_audio.mp3\"\n",
    "# audio_path = test_dir/\"constitution_01_unitedstates_128kb.mp3\"\n",
    "assert audio_path.exists()"
   ]
  },
  {
   "cell_type": "code",
   "execution_count": 17,
   "id": "fd63d597-68b0-43a5-a810-8f95e6b1f22e",
   "metadata": {},
   "outputs": [
    {
     "name": "stderr",
     "output_type": "stream",
     "text": [
      "cjm_transcription_plugin_whisper.plugin.WhisperLocalPlugin - INFO - Loading Whisper model: large-v3\n"
     ]
    },
    {
     "name": "stdout",
     "output_type": "stream",
     "text": [
      "Transcribing: /mnt/SN850X_8TB_EXT4/Projects/GitHub/cj-mills/cjm-transcription-plugin-whisper/test_files/short_test_audio.mp3\n"
     ]
    },
    {
     "name": "stderr",
     "output_type": "stream",
     "text": [
      "cjm_transcription_plugin_whisper.plugin.WhisperLocalPlugin - INFO - Local Whisper model loaded successfully\n",
      "cjm_transcription_plugin_whisper.plugin.WhisperLocalPlugin - INFO - Transcribing audio with Whisper large-v3\n"
     ]
    },
    {
     "name": "stdout",
     "output_type": "stream",
     "text": [
      "Detected language: English\n"
     ]
    },
    {
     "name": "stderr",
     "output_type": "stream",
     "text": [
      "100%|███████████████████████████████████████████████████████████| 2799/2799 [00:01<00:00, 2345.58frames/s]\n",
      "cjm_transcription_plugin_whisper.plugin.WhisperLocalPlugin - INFO - Transcription completed: 44 words\n"
     ]
    },
    {
     "name": "stdout",
     "output_type": "stream",
     "text": [
      "Transcription result:\n",
      "  Text:\n",
      "    november tenth wednesday nine p m i am standing in a dark alley after waiting several hours the time has come\n",
      "    a woman with long dark hair approaches i have to act and fast before she realizes what has happened i must find out\n",
      "  Segments: 2\n",
      "  Metadata: {'model': 'large-v3', 'language': 'en', 'task': 'transcribe', 'device': 'cuda', 'duration': None}\n"
     ]
    }
   ],
   "source": [
    "print(f\"Transcribing: {audio_path}\")\n",
    "result = manager2.execute_plugin(\"whisper_local\", audio_path)\n",
    "print(\"Transcription result:\")\n",
    "text = '\\n    '.join([seg['text'] for seg in result.segments[:5]])\n",
    "print(f\"  Text:\\n    {text}\")\n",
    "print(f\"  Segments: {len(result.segments) if result.segments else 0}\")\n",
    "print(f\"  Metadata: {result.metadata}\")"
   ]
  },
  {
   "cell_type": "code",
   "execution_count": 18,
   "id": "9dee6835-0989-4374-91e2-3dc0c41a16dd",
   "metadata": {},
   "outputs": [
    {
     "name": "stderr",
     "output_type": "stream",
     "text": [
      "cjm_transcription_plugin_whisper.plugin.WhisperLocalPlugin - INFO - Unloading Whisper model\n",
      "cjm_transcription_plugin_whisper.plugin.WhisperLocalPlugin - INFO - Cleanup completed\n"
     ]
    }
   ],
   "source": [
    "manager2.get_plugin('whisper_local').cleanup()"
   ]
  },
  {
   "cell_type": "code",
   "execution_count": null,
   "id": "4296a1ef-0961-44f6-8ca9-7240f5dccfce",
   "metadata": {},
   "outputs": [],
   "source": []
  }
 ],
 "metadata": {
  "kernelspec": {
   "display_name": "Python 3 (ipykernel)",
   "language": "python",
   "name": "python3"
  },
  "language_info": {
   "codemirror_mode": {
    "name": "ipython",
    "version": 3
   },
   "file_extension": ".py",
   "mimetype": "text/x-python",
   "name": "python",
   "nbconvert_exporter": "python",
   "pygments_lexer": "ipython3",
   "version": "3.11.13"
  }
 },
 "nbformat": 4,
 "nbformat_minor": 5
}
