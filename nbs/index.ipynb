{
 "cells": [
  {
   "cell_type": "markdown",
   "metadata": {},
   "source": [
    "# cjm-transcription-plugin-whisper\n",
    "\n",
    "> OpenAI Whisper plugin for the cjm-transcription-plugin-system library - provides local speech-to-text transcription with configurable model selection and parameter control."
   ]
  },
  {
   "cell_type": "markdown",
   "metadata": {},
   "source": [
    "## Install\n",
    "\n",
    "```bash\n",
    "pip install cjm_transcription_plugin_whisper\n",
    "```"
   ]
  },
  {
   "cell_type": "markdown",
   "metadata": {},
   "source": [
    "## Project Structure\n",
    "\n",
    "```\n",
    "nbs/\n",
    "└── plugin.ipynb # Plugin implementation for OpenAI Whisper transcription\n",
    "```\n",
    "\n",
    "Total: 1 notebook across 1 directory"
   ]
  },
  {
   "cell_type": "markdown",
   "metadata": {},
   "source": [
    "## Module Dependencies\n",
    "\n",
    "```mermaid\n",
    "graph LR\n",
    "    plugin[plugin<br/>Whisper Plugin]\n",
    "\n",
    "```\n",
    "\n",
    "No cross-module dependencies detected."
   ]
  },
  {
   "cell_type": "markdown",
   "metadata": {},
   "source": [
    "## CLI Reference\n",
    "\n",
    "No CLI commands found in this project."
   ]
  },
  {
   "cell_type": "markdown",
   "metadata": {},
   "source": [
    "## Module Overview\n",
    "\n",
    "Detailed documentation for each module in the project:"
   ]
  },
  {
   "cell_type": "markdown",
   "metadata": {},
   "source": [
    "### Whisper Plugin (`plugin.ipynb`)\n",
    "> Plugin implementation for OpenAI Whisper transcription\n",
    "\n",
    "#### Import\n",
    "\n",
    "```python\n",
    "from cjm_transcription_plugin_whisper.plugin import (\n",
    "    WhisperLocalPlugin\n",
    ")\n",
    "```\n",
    "#### Classes\n",
    "\n",
    "```python\n",
    "class WhisperLocalPlugin:\n",
    "    def __init__(self):\n",
    "        \"\"\"Initialize the Whisper plugin with default configuration.\"\"\"\n",
    "        self.logger = logging.getLogger(f\"{__name__}.{type(self).__name__}\")\n",
    "        self.config = {}\n",
    "        self.model = None\n",
    "        self.device = None\n",
    "        self.model_dir = None\n",
    "    \n",
    "    @property\n",
    "    def name(\n",
    "        self\n",
    "    ) -> str: # the plugin name identifier\n",
    "    \"OpenAI Whisper transcription plugin.\"\n",
    "    \n",
    "    def __init__(self):\n",
    "            \"\"\"Initialize the Whisper plugin with default configuration.\"\"\"\n",
    "            self.logger = logging.getLogger(f\"{__name__}.{type(self).__name__}\")\n",
    "            self.config = {}\n",
    "            self.model = None\n",
    "            self.device = None\n",
    "            self.model_dir = None\n",
    "        \n",
    "        @property\n",
    "        def name(\n",
    "            self\n",
    "        ) -> str: # the plugin name identifier\n",
    "        \"Initialize the Whisper plugin with default configuration.\"\n",
    "    \n",
    "    def name(\n",
    "            self\n",
    "        ) -> str: # the plugin name identifier\n",
    "        \"Get the plugin name identifier.\"\n",
    "    \n",
    "    def version(\n",
    "            self\n",
    "        ) -> str: # the plugin version string\n",
    "        \"Get the plugin version string.\"\n",
    "    \n",
    "    def supported_formats(\n",
    "            self\n",
    "        ) -> List[str]: # list of supported audio file formats\n",
    "        \"Get the list of supported audio file formats.\"\n",
    "    \n",
    "    def get_config_schema(\n",
    "        ) -> Dict[str, Any]: # the configuration schema dictionary\n",
    "        \"Return configuration schema for Whisper.\"\n",
    "    \n",
    "    def get_current_config(\n",
    "            self\n",
    "        ) -> Dict[str, Any]: # the current configuration dictionary\n",
    "        \"Return current configuration.\"\n",
    "    \n",
    "    def initialize(\n",
    "            self,\n",
    "            config: Optional[Dict[str, Any]] = None # configuration dictionary to initialize the plugin\n",
    "        ) -> None\n",
    "        \"Initialize the plugin with configuration.\"\n",
    "    \n",
    "    def execute(\n",
    "            self,\n",
    "            audio: Union[AudioData, str, Path], # audio data or path to audio file to transcribe\n",
    "            **kwargs # additional arguments to override config\n",
    "        ) -> TranscriptionResult: # transcription result with text and metadata\n",
    "        \"Transcribe audio using Whisper.\"\n",
    "    \n",
    "    def is_available(\n",
    "            self\n",
    "        ) -> bool: # True if Whisper and its dependencies are available\n",
    "        \"Check if Whisper is available.\"\n",
    "    \n",
    "    def cleanup(\n",
    "            self\n",
    "        ) -> None\n",
    "        \"Clean up resources.\"\n",
    "```\n"
   ]
  }
 ],
 "metadata": {
  "kernelspec": {
   "display_name": "python3",
   "language": "python",
   "name": "python3"
  }
 },
 "nbformat": 4,
 "nbformat_minor": 4
}
